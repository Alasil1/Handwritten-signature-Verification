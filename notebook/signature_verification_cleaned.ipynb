{
 "cells": [
  {
   "cell_type": "markdown",
   "id": "5304cf69",
   "metadata": {},
   "source": [
    "# Handwritten Signature Verification\n",
    "This project uses a Siamese Neural Network to verify whether a pair of handwritten signatures are from the same person. The model is trained on the CEDAR signature dataset."
   ]
  },
  {
   "cell_type": "markdown",
   "id": "4749a793",
   "metadata": {},
   "source": [
    "## 1. Importing Required Libraries"
   ]
  },
  {
   "cell_type": "code",
   "execution_count": null,
   "metadata": {
    "execution": {
     "iopub.execute_input": "2024-12-14T11:22:09.699125Z",
     "iopub.status.busy": "2024-12-14T11:22:09.698763Z",
     "iopub.status.idle": "2024-12-14T11:22:09.731670Z",
     "shell.execute_reply": "2024-12-14T11:22:09.730748Z",
     "shell.execute_reply.started": "2024-12-14T11:22:09.699079Z"
    },
    "id": "WsVHC8p_CUlq"
   },
   "outputs": [],
   "source": [
    "import os"
   ]
  },
  {
   "cell_type": "code",
   "execution_count": null,
   "metadata": {
    "execution": {
     "iopub.execute_input": "2024-12-14T11:22:09.733614Z",
     "iopub.status.busy": "2024-12-14T11:22:09.733229Z",
     "iopub.status.idle": "2024-12-14T11:22:09.742651Z",
     "shell.execute_reply": "2024-12-14T11:22:09.741508Z",
     "shell.execute_reply.started": "2024-12-14T11:22:09.733575Z"
    },
    "id": "diVbDEgpCUls"
   },
   "outputs": [],
   "source": [
    "def get_pairs(dir):\n",
    "    peopledir=dir\n",
    "    people=os.listdir(peopledir)\n",
    "    if len(people) > 90:\n",
    "        people = people[:55]\n",
    "    data = []\n",
    "    for i in people:\n",
    "        person = os.listdir(peopledir+'/'+i)\n",
    "        genuine=[]\n",
    "        for j in person:\n",
    "            if \"G\" in j or \"original\" in j :\n",
    "                genuine.append(j)\n",
    "        for k in genuine:\n",
    "            for l in person:\n",
    "                if k==l:\n",
    "                    continue\n",
    "                if 'G' in l or 'original' in l:\n",
    "                    data.append((k,l,0,i))\n",
    "                else:\n",
    "                    data.append((k,l,1,i))\n",
    "    return data"
   ]
  },
  {
   "cell_type": "code",
   "execution_count": null,
   "metadata": {
    "execution": {
     "iopub.execute_input": "2024-12-14T11:22:09.744748Z",
     "iopub.status.busy": "2024-12-14T11:22:09.744350Z",
     "iopub.status.idle": "2024-12-14T11:22:24.648565Z",
     "shell.execute_reply": "2024-12-14T11:22:24.647530Z",
     "shell.execute_reply.started": "2024-12-14T11:22:09.744695Z"
    },
    "id": "UJJP1i3jCUls"
   },
   "outputs": [],
   "source": [
    "import numpy as np\n",
    "import random\n",
    "import pandas as pd\n",
    "import matplotlib.pyplot as plt\n",
    "from tensorflow.keras.preprocessing.image import load_img, img_to_array\n",
    "import tensorflow as tf\n",
    "from tensorflow import keras\n",
    "from tensorflow.keras import layers\n",
    "from tensorflow.keras import backend as ops\n",
    "def euclidean_distance(vects):\n",
    "    x, y = vects\n",
    "    sum_square = ops.sum(ops.square(x - y), axis=1, keepdims=True)\n",
    "    return ops.sqrt(ops.maximum(sum_square, keras.backend.epsilon()))\n",
    "def loss(margin=1):\n",
    "    def contrastive_loss(y_true, y_pred):\n",
    "        square_pred = ops.square(y_pred)\n",
    "        margin_square = ops.square(ops.maximum(margin - (y_pred), 0))\n",
    "        return ops.mean((1 - y_true) * square_pred + (y_true) * margin_square)\n",
    "    return contrastive_loss\n",
    "def load_pairs_train_from_csv(df, input_shape,dir):\n",
    "    pairs = []\n",
    "    labels = []\n",
    "    count=0\n",
    "    for _, row in df.iterrows():\n",
    "        img1 = preprocess_image(dir+'/'+row[3]+'/'+row[0], input_shape)\n",
    "        img2 = preprocess_image(dir+'/'+row[3]+'/'+row[1], input_shape)\n",
    "        pairs.append([img1, img2])\n",
    "        labels.append(row[2])\n",
    "    return np.array(pairs), np.array(labels)\n",
    "def preprocess_image(image_path, input_shape):\n",
    "    img = load_img(image_path, target_size=input_shape[:2], color_mode='grayscale')\n",
    "    img_array = img_to_array(img)\n",
    "    img_array = img_array / 255.0\n",
    "    return img_array"
   ]
  },
  {
   "cell_type": "markdown",
   "id": "980c8673",
   "metadata": {},
   "source": [
    "## 2. Load Dataset"
   ]
  },
  {
   "cell_type": "code",
   "execution_count": null,
   "metadata": {
    "execution": {
     "iopub.execute_input": "2024-12-14T10:54:41.513071Z",
     "iopub.status.busy": "2024-12-14T10:54:41.512793Z",
     "iopub.status.idle": "2024-12-14T10:54:41.570125Z",
     "shell.execute_reply": "2024-12-14T10:54:41.569440Z",
     "shell.execute_reply.started": "2024-12-14T10:54:41.513046Z"
    },
    "id": "sq_cA1jWCUlt"
   },
   "outputs": [],
   "source": [
    "data=get_pairs('/kaggle/input/handwritten-signature-datasets/CEDAR/CEDAR/')"
   ]
  },
  {
   "cell_type": "markdown",
   "id": "7113f21c",
   "metadata": {},
   "source": [
    "### Convert to DataFrame"
   ]
  },
  {
   "cell_type": "code",
   "execution_count": null,
   "metadata": {
    "execution": {
     "iopub.execute_input": "2024-12-14T10:54:42.110893Z",
     "iopub.status.busy": "2024-12-14T10:54:42.109990Z",
     "iopub.status.idle": "2024-12-14T10:54:42.142484Z",
     "shell.execute_reply": "2024-12-14T10:54:42.141735Z",
     "shell.execute_reply.started": "2024-12-14T10:54:42.110843Z"
    },
    "id": "X4rDcaO_CUlt",
    "outputId": "b116565c-acc2-4be6-c3c3-9d6923176cee"
   },
   "outputs": [
    {
     "data": {
      "text/html": [
       "<div>\n",
       "<style scoped>\n",
       "    .dataframe tbody tr th:only-of-type {\n",
       "        vertical-align: middle;\n",
       "    }\n",
       "\n",
       "    .dataframe tbody tr th {\n",
       "        vertical-align: top;\n",
       "    }\n",
       "\n",
       "    .dataframe thead th {\n",
       "        text-align: right;\n",
       "    }\n",
       "</style>\n",
       "<table border=\"1\" class=\"dataframe\">\n",
       "  <thead>\n",
       "    <tr style=\"text-align: right;\">\n",
       "      <th></th>\n",
       "      <th>img1</th>\n",
       "      <th>img2</th>\n",
       "      <th>label</th>\n",
       "      <th>person</th>\n",
       "    </tr>\n",
       "  </thead>\n",
       "  <tbody>\n",
       "    <tr>\n",
       "      <th>0</th>\n",
       "      <td>original_7_18.png</td>\n",
       "      <td>forgeries_7_7.png</td>\n",
       "      <td>1</td>\n",
       "      <td>7</td>\n",
       "    </tr>\n",
       "    <tr>\n",
       "      <th>1</th>\n",
       "      <td>original_7_18.png</td>\n",
       "      <td>forgeries_7_5.png</td>\n",
       "      <td>1</td>\n",
       "      <td>7</td>\n",
       "    </tr>\n",
       "    <tr>\n",
       "      <th>2</th>\n",
       "      <td>original_7_18.png</td>\n",
       "      <td>forgeries_7_9.png</td>\n",
       "      <td>1</td>\n",
       "      <td>7</td>\n",
       "    </tr>\n",
       "    <tr>\n",
       "      <th>3</th>\n",
       "      <td>original_7_18.png</td>\n",
       "      <td>original_7_6.png</td>\n",
       "      <td>0</td>\n",
       "      <td>7</td>\n",
       "    </tr>\n",
       "    <tr>\n",
       "      <th>4</th>\n",
       "      <td>original_7_18.png</td>\n",
       "      <td>original_7_24.png</td>\n",
       "      <td>0</td>\n",
       "      <td>7</td>\n",
       "    </tr>\n",
       "    <tr>\n",
       "      <th>...</th>\n",
       "      <td>...</td>\n",
       "      <td>...</td>\n",
       "      <td>...</td>\n",
       "      <td>...</td>\n",
       "    </tr>\n",
       "    <tr>\n",
       "      <th>62035</th>\n",
       "      <td>original_24_17.png</td>\n",
       "      <td>forgeries_24_1.png</td>\n",
       "      <td>1</td>\n",
       "      <td>24</td>\n",
       "    </tr>\n",
       "    <tr>\n",
       "      <th>62036</th>\n",
       "      <td>original_24_17.png</td>\n",
       "      <td>forgeries_24_12.png</td>\n",
       "      <td>1</td>\n",
       "      <td>24</td>\n",
       "    </tr>\n",
       "    <tr>\n",
       "      <th>62037</th>\n",
       "      <td>original_24_17.png</td>\n",
       "      <td>forgeries_24_19.png</td>\n",
       "      <td>1</td>\n",
       "      <td>24</td>\n",
       "    </tr>\n",
       "    <tr>\n",
       "      <th>62038</th>\n",
       "      <td>original_24_17.png</td>\n",
       "      <td>forgeries_24_4.png</td>\n",
       "      <td>1</td>\n",
       "      <td>24</td>\n",
       "    </tr>\n",
       "    <tr>\n",
       "      <th>62039</th>\n",
       "      <td>original_24_17.png</td>\n",
       "      <td>forgeries_24_23.png</td>\n",
       "      <td>1</td>\n",
       "      <td>24</td>\n",
       "    </tr>\n",
       "  </tbody>\n",
       "</table>\n",
       "<p>62040 rows × 4 columns</p>\n",
       "</div>"
      ],
      "text/plain": [
       "                     img1                 img2  label person\n",
       "0       original_7_18.png    forgeries_7_7.png      1      7\n",
       "1       original_7_18.png    forgeries_7_5.png      1      7\n",
       "2       original_7_18.png    forgeries_7_9.png      1      7\n",
       "3       original_7_18.png     original_7_6.png      0      7\n",
       "4       original_7_18.png    original_7_24.png      0      7\n",
       "...                   ...                  ...    ...    ...\n",
       "62035  original_24_17.png   forgeries_24_1.png      1     24\n",
       "62036  original_24_17.png  forgeries_24_12.png      1     24\n",
       "62037  original_24_17.png  forgeries_24_19.png      1     24\n",
       "62038  original_24_17.png   forgeries_24_4.png      1     24\n",
       "62039  original_24_17.png  forgeries_24_23.png      1     24\n",
       "\n",
       "[62040 rows x 4 columns]"
      ]
     },
     "execution_count": 12,
     "metadata": {},
     "output_type": "execute_result"
    }
   ],
   "source": [
    "import pandas as pd\n",
    "df=pd.DataFrame(data,columns=['img1','img2','label','person'])\n",
    "df"
   ]
  },
  {
   "cell_type": "markdown",
   "id": "f04a2a44",
   "metadata": {},
   "source": [
    "### Check Dataset Shape"
   ]
  },
  {
   "cell_type": "code",
   "execution_count": null,
   "metadata": {
    "execution": {
     "iopub.execute_input": "2024-12-14T09:31:51.234787Z",
     "iopub.status.busy": "2024-12-14T09:31:51.234342Z",
     "iopub.status.idle": "2024-12-14T09:31:51.240339Z",
     "shell.execute_reply": "2024-12-14T09:31:51.239423Z",
     "shell.execute_reply.started": "2024-12-14T09:31:51.234760Z"
    },
    "id": "2dt9Ji5NCUlu",
    "outputId": "aba6ced3-869a-4d3e-b29c-d09de85811a1"
   },
   "outputs": [
    {
     "data": {
      "text/plain": [
       "(62040, 4)"
      ]
     },
     "execution_count": 11,
     "metadata": {},
     "output_type": "execute_result"
    }
   ],
   "source": [
    "df.shape"
   ]
  },
  {
   "cell_type": "markdown",
   "id": "e3d6bf0f",
   "metadata": {},
   "source": [
    "## 3. Preprocessing"
   ]
  },
  {
   "cell_type": "code",
   "execution_count": null,
   "metadata": {
    "execution": {
     "iopub.execute_input": "2024-12-14T09:32:16.833488Z",
     "iopub.status.busy": "2024-12-14T09:32:16.833173Z",
     "iopub.status.idle": "2024-12-14T09:38:27.857641Z",
     "shell.execute_reply": "2024-12-14T09:38:27.856510Z",
     "shell.execute_reply.started": "2024-12-14T09:32:16.833454Z"
    },
    "id": "4w04GjfdCUlv",
    "outputId": "e9a025fb-4669-4b2f-e9ea-c2a02e6ea600"
   },
   "outputs": [
    {
     "name": "stderr",
     "output_type": "stream",
     "text": [
      "/tmp/ipykernel_23/2133285894.py:25: FutureWarning: Series.__getitem__ treating keys as positions is deprecated. In a future version, integer keys will always be treated as labels (consistent with DataFrame behavior). To access a value by position, use `ser.iloc[pos]`\n",
      "  img1 = preprocess_image(\"/kaggle/input/handwritten-signature-datasets/CEDAR/CEDAR/\"+'/'+row[3]+'/'+row[0], input_shape)\n",
      "/tmp/ipykernel_23/2133285894.py:26: FutureWarning: Series.__getitem__ treating keys as positions is deprecated. In a future version, integer keys will always be treated as labels (consistent with DataFrame behavior). To access a value by position, use `ser.iloc[pos]`\n",
      "  img2 = preprocess_image(\"/kaggle/input/handwritten-signature-datasets/CEDAR/CEDAR/\"+'/'+row[3]+'/'+row[1], input_shape)\n",
      "/tmp/ipykernel_23/2133285894.py:28: FutureWarning: Series.__getitem__ treating keys as positions is deprecated. In a future version, integer keys will always be treated as labels (consistent with DataFrame behavior). To access a value by position, use `ser.iloc[pos]`\n",
      "  labels.append(row[2])\n"
     ]
    }
   ],
   "source": [
    "input_shape = (105, 105, 1)\n",
    "dir='/kaggle/input/handwritten-signature-datasets/CEDAR/CEDAR'\n",
    "train_pairs, train_labels = load_pairs_train_from_csv(df, input_shape,dir)"
   ]
  },
  {
   "cell_type": "markdown",
   "id": "cc00f23c",
   "metadata": {},
   "source": [
    "### Train-Test Split"
   ]
  },
  {
   "cell_type": "code",
   "execution_count": null,
   "metadata": {
    "execution": {
     "iopub.execute_input": "2024-12-14T10:09:30.568801Z",
     "iopub.status.busy": "2024-12-14T10:09:30.568467Z",
     "iopub.status.idle": "2024-12-14T10:09:32.529844Z",
     "shell.execute_reply": "2024-12-14T10:09:32.529073Z",
     "shell.execute_reply.started": "2024-12-14T10:09:30.568769Z"
    },
    "id": "dvB7UvPBCUlv"
   },
   "outputs": [],
   "source": [
    "from sklearn.model_selection import train_test_split\n",
    "X_train, X_test, y_train, y_test = train_test_split(train_pairs, train_labels, test_size=0.2, random_state=42,shuffle=True)"
   ]
  },
  {
   "cell_type": "code",
   "execution_count": null,
   "metadata": {
    "execution": {
     "iopub.execute_input": "2024-12-14T10:09:32.531759Z",
     "iopub.status.busy": "2024-12-14T10:09:32.531459Z",
     "iopub.status.idle": "2024-12-14T10:09:32.547897Z",
     "shell.execute_reply": "2024-12-14T10:09:32.547145Z",
     "shell.execute_reply.started": "2024-12-14T10:09:32.531730Z"
    },
    "id": "2ESl9qJVCUlv"
   },
   "outputs": [],
   "source": [
    "x_train_1 = X_train[:, 0]\n",
    "x_train_2 = X_train[:, 1]\n",
    "x_test_1 = X_test[:, 0]\n",
    "x_test_2 = X_test[:, 1]"
   ]
  },
  {
   "cell_type": "markdown",
   "id": "3f9c3690",
   "metadata": {},
   "source": [
    "## 4. Build Siamese Neural Network"
   ]
  },
  {
   "cell_type": "code",
   "execution_count": null,
   "metadata": {
    "execution": {
     "iopub.execute_input": "2024-12-14T10:09:38.865910Z",
     "iopub.status.busy": "2024-12-14T10:09:38.865109Z",
     "iopub.status.idle": "2024-12-14T10:09:38.869664Z",
     "shell.execute_reply": "2024-12-14T10:09:38.868717Z",
     "shell.execute_reply.started": "2024-12-14T10:09:38.865871Z"
    },
    "id": "aE4muamFCUlw"
   },
   "outputs": [],
   "source": [
    "from keras.layers import Conv2D,MaxPooling2D,Dense,Flatten,Dropout"
   ]
  },
  {
   "cell_type": "code",
   "execution_count": null,
   "metadata": {
    "execution": {
     "iopub.execute_input": "2024-12-14T10:09:39.601836Z",
     "iopub.status.busy": "2024-12-14T10:09:39.601095Z",
     "iopub.status.idle": "2024-12-14T10:09:39.653054Z",
     "shell.execute_reply": "2024-12-14T10:09:39.652480Z",
     "shell.execute_reply.started": "2024-12-14T10:09:39.601803Z"
    },
    "id": "Oldz4JzOCUlw"
   },
   "outputs": [],
   "source": [
    "input = keras.layers.Input((105, 105, 1))\n",
    "x = keras.layers.BatchNormalization()(input)\n",
    "x = keras.layers.Conv2D(32, (3, 3), activation=\"relu\")(x)\n",
    "x = keras.layers.AveragePooling2D(pool_size=(2, 2))(x)\n",
    "x = keras.layers.Conv2D(64, (3, 3), activation=\"relu\")(x)\n",
    "x = keras.layers.AveragePooling2D(pool_size=(2, 2))(x)\n",
    "x = keras.layers.Flatten()(x)\n",
    "embedding_network = keras.Model(input, x)\n",
    "input_1 = keras.layers.Input((105, 105, 1))\n",
    "input_2 = keras.layers.Input((105, 105, 1))\n",
    "tower_1 = embedding_network(input_1)\n",
    "tower_2 = embedding_network(input_2)\n",
    "\n",
    "merge_layer = keras.layers.Lambda(euclidean_distance, output_shape=(1,))(\n",
    "    [tower_1, tower_2]\n",
    ")\n",
    "normal_layer = keras.layers.BatchNormalization()(merge_layer)\n",
    "output_layer = keras.layers.Dense(1, activation=\"sigmoid\")(normal_layer)\n",
    "siamese = keras.Model(inputs=[input_1, input_2], outputs=output_layer)"
   ]
  },
  {
   "cell_type": "code",
   "execution_count": null,
   "metadata": {
    "execution": {
     "iopub.execute_input": "2024-12-14T10:09:40.388278Z",
     "iopub.status.busy": "2024-12-14T10:09:40.387964Z",
     "iopub.status.idle": "2024-12-14T10:09:40.411170Z",
     "shell.execute_reply": "2024-12-14T10:09:40.410371Z",
     "shell.execute_reply.started": "2024-12-14T10:09:40.388252Z"
    },
    "id": "XrCAU2ZtCUlw",
    "outputId": "c9f11c78-a174-4284-d3a6-3fe9a8a1ac57"
   },
   "outputs": [
    {
     "data": {
      "text/html": [
       "<pre style=\"white-space:pre;overflow-x:auto;line-height:normal;font-family:Menlo,'DejaVu Sans Mono',consolas,'Courier New',monospace\"><span style=\"font-weight: bold\">Model: \"functional_43\"</span>\n",
       "</pre>\n"
      ],
      "text/plain": [
       "\u001b[1mModel: \"functional_43\"\u001b[0m\n"
      ]
     },
     "metadata": {},
     "output_type": "display_data"
    },
    {
     "data": {
      "text/html": [
       "<pre style=\"white-space:pre;overflow-x:auto;line-height:normal;font-family:Menlo,'DejaVu Sans Mono',consolas,'Courier New',monospace\">┏━━━━━━━━━━━━━━━━━━━━━┳━━━━━━━━━━━━━━━━━━━┳━━━━━━━━━━━━┳━━━━━━━━━━━━━━━━━━━┓\n",
       "┃<span style=\"font-weight: bold\"> Layer (type)        </span>┃<span style=\"font-weight: bold\"> Output Shape      </span>┃<span style=\"font-weight: bold\">    Param # </span>┃<span style=\"font-weight: bold\"> Connected to      </span>┃\n",
       "┡━━━━━━━━━━━━━━━━━━━━━╇━━━━━━━━━━━━━━━━━━━╇━━━━━━━━━━━━╇━━━━━━━━━━━━━━━━━━━┩\n",
       "│ input_layer_31      │ (<span style=\"color: #00d7ff; text-decoration-color: #00d7ff\">None</span>, <span style=\"color: #00af00; text-decoration-color: #00af00\">105</span>, <span style=\"color: #00af00; text-decoration-color: #00af00\">105</span>,  │          <span style=\"color: #00af00; text-decoration-color: #00af00\">0</span> │ -                 │\n",
       "│ (<span style=\"color: #0087ff; text-decoration-color: #0087ff\">InputLayer</span>)        │ <span style=\"color: #00af00; text-decoration-color: #00af00\">1</span>)                │            │                   │\n",
       "├─────────────────────┼───────────────────┼────────────┼───────────────────┤\n",
       "│ input_layer_32      │ (<span style=\"color: #00d7ff; text-decoration-color: #00d7ff\">None</span>, <span style=\"color: #00af00; text-decoration-color: #00af00\">105</span>, <span style=\"color: #00af00; text-decoration-color: #00af00\">105</span>,  │          <span style=\"color: #00af00; text-decoration-color: #00af00\">0</span> │ -                 │\n",
       "│ (<span style=\"color: #0087ff; text-decoration-color: #0087ff\">InputLayer</span>)        │ <span style=\"color: #00af00; text-decoration-color: #00af00\">1</span>)                │            │                   │\n",
       "├─────────────────────┼───────────────────┼────────────┼───────────────────┤\n",
       "│ functional_41       │ (<span style=\"color: #00d7ff; text-decoration-color: #00d7ff\">None</span>, <span style=\"color: #00af00; text-decoration-color: #00af00\">36864</span>)     │     <span style=\"color: #00af00; text-decoration-color: #00af00\">18,820</span> │ input_layer_31[<span style=\"color: #00af00; text-decoration-color: #00af00\">0</span>… │\n",
       "│ (<span style=\"color: #0087ff; text-decoration-color: #0087ff\">Functional</span>)        │                   │            │ input_layer_32[<span style=\"color: #00af00; text-decoration-color: #00af00\">0</span>… │\n",
       "├─────────────────────┼───────────────────┼────────────┼───────────────────┤\n",
       "│ lambda_10 (<span style=\"color: #0087ff; text-decoration-color: #0087ff\">Lambda</span>)  │ (<span style=\"color: #00d7ff; text-decoration-color: #00d7ff\">None</span>, <span style=\"color: #00af00; text-decoration-color: #00af00\">1</span>)         │          <span style=\"color: #00af00; text-decoration-color: #00af00\">0</span> │ functional_41[<span style=\"color: #00af00; text-decoration-color: #00af00\">0</span>]… │\n",
       "│                     │                   │            │ functional_41[<span style=\"color: #00af00; text-decoration-color: #00af00\">1</span>]… │\n",
       "├─────────────────────┼───────────────────┼────────────┼───────────────────┤\n",
       "│ batch_normalizatio… │ (<span style=\"color: #00d7ff; text-decoration-color: #00d7ff\">None</span>, <span style=\"color: #00af00; text-decoration-color: #00af00\">1</span>)         │          <span style=\"color: #00af00; text-decoration-color: #00af00\">4</span> │ lambda_10[<span style=\"color: #00af00; text-decoration-color: #00af00\">0</span>][<span style=\"color: #00af00; text-decoration-color: #00af00\">0</span>]   │\n",
       "│ (<span style=\"color: #0087ff; text-decoration-color: #0087ff\">BatchNormalizatio…</span> │                   │            │                   │\n",
       "├─────────────────────┼───────────────────┼────────────┼───────────────────┤\n",
       "│ dense_10 (<span style=\"color: #0087ff; text-decoration-color: #0087ff\">Dense</span>)    │ (<span style=\"color: #00d7ff; text-decoration-color: #00d7ff\">None</span>, <span style=\"color: #00af00; text-decoration-color: #00af00\">1</span>)         │          <span style=\"color: #00af00; text-decoration-color: #00af00\">2</span> │ batch_normalizat… │\n",
       "└─────────────────────┴───────────────────┴────────────┴───────────────────┘\n",
       "</pre>\n"
      ],
      "text/plain": [
       "┏━━━━━━━━━━━━━━━━━━━━━┳━━━━━━━━━━━━━━━━━━━┳━━━━━━━━━━━━┳━━━━━━━━━━━━━━━━━━━┓\n",
       "┃\u001b[1m \u001b[0m\u001b[1mLayer (type)       \u001b[0m\u001b[1m \u001b[0m┃\u001b[1m \u001b[0m\u001b[1mOutput Shape     \u001b[0m\u001b[1m \u001b[0m┃\u001b[1m \u001b[0m\u001b[1m   Param #\u001b[0m\u001b[1m \u001b[0m┃\u001b[1m \u001b[0m\u001b[1mConnected to     \u001b[0m\u001b[1m \u001b[0m┃\n",
       "┡━━━━━━━━━━━━━━━━━━━━━╇━━━━━━━━━━━━━━━━━━━╇━━━━━━━━━━━━╇━━━━━━━━━━━━━━━━━━━┩\n",
       "│ input_layer_31      │ (\u001b[38;5;45mNone\u001b[0m, \u001b[38;5;34m105\u001b[0m, \u001b[38;5;34m105\u001b[0m,  │          \u001b[38;5;34m0\u001b[0m │ -                 │\n",
       "│ (\u001b[38;5;33mInputLayer\u001b[0m)        │ \u001b[38;5;34m1\u001b[0m)                │            │                   │\n",
       "├─────────────────────┼───────────────────┼────────────┼───────────────────┤\n",
       "│ input_layer_32      │ (\u001b[38;5;45mNone\u001b[0m, \u001b[38;5;34m105\u001b[0m, \u001b[38;5;34m105\u001b[0m,  │          \u001b[38;5;34m0\u001b[0m │ -                 │\n",
       "│ (\u001b[38;5;33mInputLayer\u001b[0m)        │ \u001b[38;5;34m1\u001b[0m)                │            │                   │\n",
       "├─────────────────────┼───────────────────┼────────────┼───────────────────┤\n",
       "│ functional_41       │ (\u001b[38;5;45mNone\u001b[0m, \u001b[38;5;34m36864\u001b[0m)     │     \u001b[38;5;34m18,820\u001b[0m │ input_layer_31[\u001b[38;5;34m0\u001b[0m… │\n",
       "│ (\u001b[38;5;33mFunctional\u001b[0m)        │                   │            │ input_layer_32[\u001b[38;5;34m0\u001b[0m… │\n",
       "├─────────────────────┼───────────────────┼────────────┼───────────────────┤\n",
       "│ lambda_10 (\u001b[38;5;33mLambda\u001b[0m)  │ (\u001b[38;5;45mNone\u001b[0m, \u001b[38;5;34m1\u001b[0m)         │          \u001b[38;5;34m0\u001b[0m │ functional_41[\u001b[38;5;34m0\u001b[0m]… │\n",
       "│                     │                   │            │ functional_41[\u001b[38;5;34m1\u001b[0m]… │\n",
       "├─────────────────────┼───────────────────┼────────────┼───────────────────┤\n",
       "│ batch_normalizatio… │ (\u001b[38;5;45mNone\u001b[0m, \u001b[38;5;34m1\u001b[0m)         │          \u001b[38;5;34m4\u001b[0m │ lambda_10[\u001b[38;5;34m0\u001b[0m][\u001b[38;5;34m0\u001b[0m]   │\n",
       "│ (\u001b[38;5;33mBatchNormalizatio…\u001b[0m │                   │            │                   │\n",
       "├─────────────────────┼───────────────────┼────────────┼───────────────────┤\n",
       "│ dense_10 (\u001b[38;5;33mDense\u001b[0m)    │ (\u001b[38;5;45mNone\u001b[0m, \u001b[38;5;34m1\u001b[0m)         │          \u001b[38;5;34m2\u001b[0m │ batch_normalizat… │\n",
       "└─────────────────────┴───────────────────┴────────────┴───────────────────┘\n"
      ]
     },
     "metadata": {},
     "output_type": "display_data"
    },
    {
     "data": {
      "text/html": [
       "<pre style=\"white-space:pre;overflow-x:auto;line-height:normal;font-family:Menlo,'DejaVu Sans Mono',consolas,'Courier New',monospace\"><span style=\"font-weight: bold\"> Total params: </span><span style=\"color: #00af00; text-decoration-color: #00af00\">18,826</span> (73.54 KB)\n",
       "</pre>\n"
      ],
      "text/plain": [
       "\u001b[1m Total params: \u001b[0m\u001b[38;5;34m18,826\u001b[0m (73.54 KB)\n"
      ]
     },
     "metadata": {},
     "output_type": "display_data"
    },
    {
     "data": {
      "text/html": [
       "<pre style=\"white-space:pre;overflow-x:auto;line-height:normal;font-family:Menlo,'DejaVu Sans Mono',consolas,'Courier New',monospace\"><span style=\"font-weight: bold\"> Trainable params: </span><span style=\"color: #00af00; text-decoration-color: #00af00\">18,822</span> (73.52 KB)\n",
       "</pre>\n"
      ],
      "text/plain": [
       "\u001b[1m Trainable params: \u001b[0m\u001b[38;5;34m18,822\u001b[0m (73.52 KB)\n"
      ]
     },
     "metadata": {},
     "output_type": "display_data"
    },
    {
     "data": {
      "text/html": [
       "<pre style=\"white-space:pre;overflow-x:auto;line-height:normal;font-family:Menlo,'DejaVu Sans Mono',consolas,'Courier New',monospace\"><span style=\"font-weight: bold\"> Non-trainable params: </span><span style=\"color: #00af00; text-decoration-color: #00af00\">4</span> (16.00 B)\n",
       "</pre>\n"
      ],
      "text/plain": [
       "\u001b[1m Non-trainable params: \u001b[0m\u001b[38;5;34m4\u001b[0m (16.00 B)\n"
      ]
     },
     "metadata": {},
     "output_type": "display_data"
    }
   ],
   "source": [
    "siamese.compile(loss=loss(margin=1), optimizer=\"RMSprop\", metrics=[\"accuracy\"])\n",
    "siamese.summary()"
   ]
  },
  {
   "cell_type": "code",
   "execution_count": null,
   "metadata": {
    "execution": {
     "iopub.execute_input": "2024-12-14T10:09:41.112905Z",
     "iopub.status.busy": "2024-12-14T10:09:41.112644Z",
     "iopub.status.idle": "2024-12-14T10:11:22.408979Z",
     "shell.execute_reply": "2024-12-14T10:11:22.408031Z",
     "shell.execute_reply.started": "2024-12-14T10:09:41.112880Z"
    },
    "id": "FpxFYMdzCUlw",
    "outputId": "76efefee-245f-4fcb-f0e5-a4abda2c30db"
   },
   "outputs": [
    {
     "name": "stdout",
     "output_type": "stream",
     "text": [
      "Epoch 1/5\n",
      "\u001b[1m1241/1241\u001b[0m \u001b[32m━━━━━━━━━━━━━━━━━━━━\u001b[0m\u001b[37m\u001b[0m \u001b[1m22s\u001b[0m 16ms/step - accuracy: 0.9670 - loss: 0.0421 - val_accuracy: 1.0000 - val_loss: 4.0759e-04\n",
      "Epoch 2/5\n",
      "\u001b[1m1241/1241\u001b[0m \u001b[32m━━━━━━━━━━━━━━━━━━━━\u001b[0m\u001b[37m\u001b[0m \u001b[1m18s\u001b[0m 14ms/step - accuracy: 0.9959 - loss: 0.0044 - val_accuracy: 1.0000 - val_loss: 3.0620e-04\n",
      "Epoch 3/5\n",
      "\u001b[1m1241/1241\u001b[0m \u001b[32m━━━━━━━━━━━━━━━━━━━━\u001b[0m\u001b[37m\u001b[0m \u001b[1m18s\u001b[0m 14ms/step - accuracy: 0.9976 - loss: 0.0023 - val_accuracy: 0.9983 - val_loss: 0.0016\n",
      "Epoch 4/5\n",
      "\u001b[1m1241/1241\u001b[0m \u001b[32m━━━━━━━━━━━━━━━━━━━━\u001b[0m\u001b[37m\u001b[0m \u001b[1m18s\u001b[0m 14ms/step - accuracy: 0.9982 - loss: 0.0014 - val_accuracy: 0.9969 - val_loss: 0.0025\n",
      "Epoch 5/5\n",
      "\u001b[1m1241/1241\u001b[0m \u001b[32m━━━━━━━━━━━━━━━━━━━━\u001b[0m\u001b[37m\u001b[0m \u001b[1m18s\u001b[0m 14ms/step - accuracy: 0.9985 - loss: 0.0014 - val_accuracy: 1.0000 - val_loss: 7.8396e-06\n"
     ]
    }
   ],
   "source": [
    "history = siamese.fit(\n",
    "    [x_train_1, x_train_2],\n",
    "    y_train,\n",
    "    validation_split = 0.2,\n",
    "    batch_size=32,\n",
    "    epochs=5,\n",
    ")"
   ]
  },
  {
   "cell_type": "code",
   "execution_count": null,
   "metadata": {
    "execution": {
     "iopub.execute_input": "2024-12-14T10:11:26.595501Z",
     "iopub.status.busy": "2024-12-14T10:11:26.594711Z",
     "iopub.status.idle": "2024-12-14T10:11:29.654393Z",
     "shell.execute_reply": "2024-12-14T10:11:29.653492Z",
     "shell.execute_reply.started": "2024-12-14T10:11:26.595466Z"
    },
    "id": "2KFkcKqXCUlx",
    "outputId": "37625e4f-f1f1-4204-f98d-320d234dced0"
   },
   "outputs": [
    {
     "name": "stdout",
     "output_type": "stream",
     "text": [
      "\u001b[1m388/388\u001b[0m \u001b[32m━━━━━━━━━━━━━━━━━━━━\u001b[0m\u001b[37m\u001b[0m \u001b[1m2s\u001b[0m 6ms/step - accuracy: 1.0000 - loss: 1.2492e-05\n",
      "test loss, test acc: [1.2621333553397562e-05, 1.0]\n"
     ]
    }
   ],
   "source": [
    "results = siamese.evaluate([x_test_1, x_test_2], y_test)\n",
    "print(\"test loss, test acc:\", results)"
   ]
  },
  {
   "cell_type": "code",
   "execution_count": null,
   "metadata": {
    "execution": {
     "iopub.execute_input": "2024-12-14T10:11:29.657357Z",
     "iopub.status.busy": "2024-12-14T10:11:29.656426Z",
     "iopub.status.idle": "2024-12-14T10:11:29.938154Z",
     "shell.execute_reply": "2024-12-14T10:11:29.937152Z",
     "shell.execute_reply.started": "2024-12-14T10:11:29.657315Z"
    },
    "id": "E8vU-kp3CUlx",
    "outputId": "f630866b-fe03-4c1f-bd18-7e401e02c430"
   },
   "outputs": [
    {
     "data": {
      "image/png": "[encoded data removed]",
      "text/plain": [
       "<Figure size 800x600 with 1 Axes>"
      ]
     },
     "metadata": {},
     "output_type": "display_data"
    }
   ],
   "source": [
    "plt.figure(figsize=(8, 6))\n",
    "plt.plot(history.history['loss'], label='Training Loss', marker='o')\n",
    "plt.plot(history.history['val_loss'], label='Validation Loss', marker='x')\n",
    "plt.title('Training and Validation Loss')\n",
    "plt.xlabel('Epochs')\n",
    "plt.ylabel('Loss')\n",
    "plt.legend()\n",
    "plt.show()"
   ]
  },
  {
   "cell_type": "code",
   "execution_count": null,
   "metadata": {
    "execution": {
     "iopub.execute_input": "2024-12-14T10:11:29.939723Z",
     "iopub.status.busy": "2024-12-14T10:11:29.939334Z",
     "iopub.status.idle": "2024-12-14T10:11:30.165490Z",
     "shell.execute_reply": "2024-12-14T10:11:30.164544Z",
     "shell.execute_reply.started": "2024-12-14T10:11:29.939682Z"
    },
    "id": "wABOdFm-CUlx",
    "outputId": "25689374-e37c-437d-fbbf-fc3639b866d5"
   },
   "outputs": [
    {
     "data": {
      "image/png": "[encoded data removed]",
      "text/plain": [
       "<Figure size 800x600 with 1 Axes>"
      ]
     },
     "metadata": {},
     "output_type": "display_data"
    }
   ],
   "source": [
    "plt.figure(figsize=(8, 6))\n",
    "plt.plot(history.history['accuracy'], label='Training acc', marker='o')\n",
    "plt.plot(history.history['val_accuracy'], label='Validation acc', marker='x')\n",
    "plt.title('Training and Validation acc')\n",
    "plt.xlabel('Epochs')\n",
    "plt.ylabel('Loss')\n",
    "plt.legend()\n",
    "plt.show()"
   ]
  }
 ],
 "metadata": {
  "colab": {
   "provenance": []
  },
  "kaggle": {
   "accelerator": "nvidiaTeslaT4",
   "dataSources": [
    {
     "datasetId": 1384931,
     "sourceId": 2359135,
     "sourceType": "datasetVersion"
    }
   ],
   "dockerImageVersionId": 30804,
   "isGpuEnabled": true,
   "isInternetEnabled": true,
   "language": "python",
   "sourceType": "notebook"
  },
  "kernelspec": {
   "display_name": "Python 3",
   "language": "python",
   "name": "python3"
  },
  "language_info": {
   "codemirror_mode": {
    "name": "ipython",
    "version": 3
   },
   "file_extension": ".py",
   "mimetype": "text/x-python",
   "name": "python",
   "nbconvert_exporter": "python",
   "pygments_lexer": "ipython3",
   "version": "3.10.14"
  }
 },
 "nbformat": 4,
 "nbformat_minor": 0
}
